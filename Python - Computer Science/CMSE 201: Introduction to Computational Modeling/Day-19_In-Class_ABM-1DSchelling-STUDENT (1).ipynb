{
 "cells": [
  {
   "cell_type": "markdown",
   "metadata": {},
   "source": [
    "### <p style=\"text-align: right;\"> &#9989; Elizabeth Walter</p>"
   ]
  },
  {
   "cell_type": "markdown",
   "metadata": {},
   "source": [
    "# Day 19 In-class Assignment: Exploring social dynamics with agent-based models\n",
    "\n",
    "In this in-class assignment we'll continue to explore the one-dimensional Schelling model and we'll try to understand how changing some of the parameters of the model changes the outcomes.\n",
    "\n",
    "<img src=\"http://www.radicalcartography.net/chicagodots_race_big.jpg\" width=400px>"
   ]
  },
  {
   "cell_type": "markdown",
   "metadata": {},
   "source": [
    "## Learning Goals\n",
    "\n",
    "We want you to:\n",
    "\n",
    "- Think about modeling Thomas Schelling's 1974 research: a complex system where a slight bias in individual preference leads to a large-scale effect\n",
    "- Try turning Schelling's rules for movement into code\n",
    "- Run a Schelling simulation until it terminates\n",
    "- Explore how changes in the simulation parameters change the outcomes"
   ]
  },
  {
   "cell_type": "markdown",
   "metadata": {},
   "source": [
    "---\n",
    "# Contexting our model\n",
    "\n",
    "Segregation by race, social class and other factors is a long-standing and pernicious problem in the United States.  Segregation is a complicated problem, whose causes have been historically driven by racial animosity and also unconscious bias.  Although much effort has been extended to desegregate schools, churches and neighborhoods, segregation along racial and economic lines continues to persist in the United States.\n",
    "\n",
    "Although incomplete, simple models can be used to help understand this phenomenon and how it can be reversed. As you saw in the pre-class assignment, **Vi Hart and Nicky Case** developed a game-based model that explores simple rules in a 2D world to see how small-scale individual preferences can have larger effects on society called the \"[Parable of the Polygons](http://ncase.me/polygons/)\".\n",
    "\n",
    "Earlier, an economist [Thomas Schelling](https://en.wikipedia.org/wiki/Thomas_Schelling) published a simpler, 1D model in what would become a landmark paper called \"[Dynamic Models of Segregation](https://www.stat.berkeley.edu/~aldous/157/Papers/Schelling_Seg_Models.pdf).\" In it, Schelling tried to explore how, in a simple toy system, individuals segregate themselves even if they have an expressed preference for having neighbors different from themselves. In other words: Schelling explored how small individual preferences can lead to larger-scale social segregation, where 'like' people clump together."
   ]
  },
  {
   "cell_type": "markdown",
   "metadata": {},
   "source": [
    "---\n",
    "\n",
    "# Reminder, the rules of the Schelling model\n",
    "\n",
    "Here's how Schelling sets up the rules for a 1-dimensional simulation:\n",
    "\n",
    "## Whether a resident wants to move\n",
    "\n",
    "- Everybody wants at least half their neighbors to be like themselves \n",
    "- Everyone defines 'their neighborhood' to include the four nearest neighbors on either side of them\n",
    "- A star wants at least four of their eight nearest neighbors to also be stars\n",
    "- A zero wants at least four of their eight nearest neighbors to also be zeros\n",
    "- For those near the end of the line the rule is that, of the four neighbors on the side toward the center plus the one, two or three outboard neighbors, half must be like oneself (Hint: this rule gets at the idea of who the neighbors are for people near the end of the line, e.g. if you're 3 people from the end, you only have 2 neighbors on the outside of where you're at.)\n",
    "\n",
    "## How a resident moves\n",
    "\n",
    "- A dissatisfied resident moves to the nearest point that meets their minimum demand---the nearest point at which half of their neighbors will be like themselves when they arrive there\n",
    "- 'Nearest' means the point reached by passing the smallest number of neighbors on the way\n",
    "- A resident moves by shoving themselves between any two other residents. (It's a bit like cutting in a line/queue: if you want to cut in, you just kind of insert yourself between two people already in line and the rest of the line adjusts around you)\n",
    "\n",
    "## The order of moves\n",
    "\n",
    "- Arbitrarily let the discontented members (those who have fewer than four neighbors like themselves) move in turn, counting from left to right.\n",
    "\n",
    "## Who gets to move, and when\n",
    "\n",
    "- Only discontented members are eligible to move\n",
    "- When people become happy, they don't want to move anymore. If an originally discontented member (when the game started) ends up content when their turn comes up, they stay put. (e.g. They used to be unhappy, someone moved, and now they're content.)\n",
    "- Anyone who *becomes* discontent gets a turn *after* the originally unhappy people get to move. (This rule is a little tricky, so make sure you feel like you comfortably understand it.)\n",
    "- The definition of a neighborhood is the four nearest neighbors on either side **at the moment one decides to move or stay**; if someone moves in between a resident and their next-door neighbor, they push the fourth neighbor out of the neighborhood. (If a line is 100 people long, the theater only fits 100 people, and you cut somewhere in line, then whoever was last in line isn't getting into the theater. Womp womp. Note that doesn't mean that the overall population changes, but a individual's neighborhood could change as other individuals move.)\n",
    "\n",
    "## What residents know about other residents\n",
    "\n",
    "- The residents don't think ahead; if it's their turn to move, they base their decision only on the state of their neighborhood as they see it, on that turn. They don't plan ahead, and they don't try to figure out what the other neighbors *might* do. \n"
   ]
  },
  {
   "cell_type": "markdown",
   "metadata": {},
   "source": [
    "---\n",
    "# Coding up the Schelling model\n",
    "\n",
    "In your pre-class assignment you started turning the Schelling model into code and tested out a function to determine in a given person was happy in their location. Now we're going to figure out how to move people within our population based on whether or not they are happy or unhappy."
   ]
  },
  {
   "cell_type": "markdown",
   "metadata": {},
   "source": [
    "### Critical Function 1: Creating a game board\n",
    "\n",
    "This function might look similar to the version you created in your pre-class assignment. If you like the one you wrote in your pre-class assignment better, feel free to use that one. The function defines people are being 0's or 1's. At each initial location, there is 50% probability that a person is either a 0 or 1. The default size of the population is 32, but you can make it as big or as small as you want. Since we're using a random number generator, we also input a random seed we want to use so that we can get reproducible results (there is a default for this as well). The function returns the NumPy array that it creates."
   ]
  },
  {
   "cell_type": "code",
   "execution_count": 5,
   "metadata": {},
   "outputs": [
    {
     "name": "stdout",
     "output_type": "stream",
     "text": [
      "[1 1 0 1 0 0 0 1 1 1 1 1 0 0 1 0 0 0 0 0]\n"
     ]
    }
   ],
   "source": [
    "import numpy as np\n",
    "\n",
    "def initialize_board(n_people=32, seed=1234):\n",
    "    # Set the seed for the random number generator\n",
    "    np.random.seed(seed)\n",
    "    \n",
    "    # Generate an array using a random number generator\n",
    "    # such that ever spot is defined to be zero or one\n",
    "    # where there is an equal chance that a spot is\n",
    "    # either a zero or a one.\n",
    "    world = np.random.choice([0,1],n_people)\n",
    "    \n",
    "    # return the newly created population\n",
    "    return world\n",
    "\n",
    "# Test it out:\n",
    "people = initialize_board(20)\n",
    "print(people)"
   ]
  },
  {
   "cell_type": "markdown",
   "metadata": {},
   "source": [
    "### Critical Function 2: Deciding if an agent is happy\n",
    "\n",
    "This function takes a game board generated by the first function and determines whether an agent at position *i* in the game board is happy for a game board of any size and a neighborhood of size N (i.e., from position i-N to i+N) for a given tolerance (the default is 50%), and returns that information.\n",
    "\n",
    "The code has to make sure to check that position *i* is actually inside the game board (i.e., make sure the request makes sense), and ensure that it behaves correctly for agents near the edges of the game board.\n",
    "\n",
    "&#9989;&nbsp; **Make sure you read through the code and understand what it does!**"
   ]
  },
  {
   "cell_type": "code",
   "execution_count": 6,
   "metadata": {},
   "outputs": [
    {
     "name": "stdout",
     "output_type": "stream",
     "text": [
      "False\n"
     ]
    }
   ],
   "source": [
    "def is_happy(my_list, my_index, tol_prob=0.5, neighbor_N=4):\n",
    "    '''\n",
    "    This function take a game board (my_list) and checks to see if the agent\n",
    "    at the given index (my_index) is \"happy\" or \"unhappy\" based on a provided\n",
    "    tolerance (tol_prob) and a given neighborhood size (neighbor_N).\n",
    "    It returns 'True' if happy and 'False' if unhappy under those circumstances.\n",
    "    '''\n",
    "    # do some error-checking (is the index within the allowed range?)\n",
    "    if my_index < 0 or my_index > len(my_list)-1:\n",
    "        print(\"you've made an indexing error!\", my_index)\n",
    "        return\n",
    "       \n",
    "    # Grab my value so that I can compare to my neighbors\n",
    "    my_value = my_list[my_index]\n",
    "    \n",
    "    # Based on the size of my neighborhood, figure out my search range\n",
    "    start = max(my_index - neighbor_N, 0) # start 4 to the left\n",
    "    end = min(my_index + neighbor_N, len(my_list)-1) # end 4 to the right\n",
    "    \n",
    "    # counter for keeping track of the neighbors that are like me\n",
    "    neighbors_like_me = 0\n",
    "    \n",
    "    # counter for keeping track of total neighbors\n",
    "    total_neighbors = 0\n",
    "    \n",
    "    # loop over the specified range\n",
    "    for i in range(start,end+1):\n",
    "        if i == my_index:\n",
    "            continue # don't count myself\n",
    "        if my_list[i] == my_value:  # if this neighbor is like me, keep track of that\n",
    "            neighbors_like_me += 1\n",
    "        total_neighbors+=1  # also keep track of total neighbors\n",
    "    \n",
    "    # happy if at least half are like me, unhappy otherwise\n",
    "    # note: it's at least half because we're not double-counting our\n",
    "    # own value\n",
    "    if neighbors_like_me/total_neighbors >= tol_prob:\n",
    "        return True\n",
    "    else:\n",
    "        return False\n",
    "    \n",
    "# Test it out:\n",
    "print(is_happy(people,3))"
   ]
  },
  {
   "cell_type": "markdown",
   "metadata": {},
   "source": [
    "### Critical Function 3:  Deciding where to move when an agent is unhappy\n",
    "\n",
    "Now that we have a way of determine if a particular person is happy or not, we need to figure out where unhappy people should move in order to become happy. Keep in mind that the rules say that we want to move the least possible distance to become happy.\n",
    "\n",
    "&#9989;&nbsp; **Write a function that takes as inputs the current board and the location of an unhappy agent and returns the index of where it should move to**. There is a skeleton function provided below with some comments that provides sections for how you might go about this. Of course, if these comments don't make sense to you or aren't how you would go about it, feel free to try your own approach. There is rarely one \"right\" way to write code!\n",
    "\n",
    "**Important Note**: When working with NumPy arrays, if I want to move a value from its current position to a new position, one good way to do this is to \"delete\" that value from the array and the \"insert\" that value into a new location. The NumPy functions that do this are `np.delete()` and `np.insert()`. You'll want to look into how those functions work."
   ]
  },
  {
   "cell_type": "code",
   "execution_count": 10,
   "metadata": {},
   "outputs": [],
   "source": [
    "# Finish the function below for deciding where to move agents\n",
    "def where_to_move(my_list, my_index, tol_prob=0.5, neighbor_N=4, print_output=False):\n",
    "    '''\n",
    "    Given a population (my_list), and the index of an unhappy person (my_index),\n",
    "    this function figures out where to move my_value so that it's happy.\n",
    "    This assumes that my_value is unhappy where it is, by the way!\n",
    "    This function then returns the index where my_value\n",
    "    should move to in order to be happy.\n",
    "    \n",
    "    Note that the function has to take in the same tolerance probability\n",
    "    and neighborhood size as the \"is_happy\" function to make sure it correctly moves people.\n",
    "    '''\n",
    "    # Figure out what my current value is so that I can correctly move\n",
    "    # myself to check for possible happiness\n",
    "    my_value = my_list[my_index]\n",
    "    \n",
    "    # Create a value for tracking whether or not I'm happy\n",
    "    happy = False\n",
    "    \n",
    "    # Create a variable to store where I should be move to\n",
    "    # We set it to -1 so that we know if we failed to find\n",
    "    # a happy place when we do our seearch\n",
    "    new_index = -1\n",
    "    \n",
    "    # Remove myself from the array so that I can insert myself\n",
    "    # in a new location, store that new location in a temporary array\n",
    "    # (the np.delete function might be new to you,\n",
    "    #  so make sure you understand what it does)\n",
    "    if happy != True:\n",
    "        temp_list = np.delete(my_list, my_index)\n",
    "    \n",
    "    # Create a loop that will try new positions until it finds one I'm happy in.\n",
    "    # Initially we'll only look to move one spot in either direction.\n",
    "    # We include a check to check for happiness and a check to make sure we aren't\n",
    "    # searching too far.\n",
    "    i = 1\n",
    "    while (happy == False) and (my_index - i >= 0 or my_index + i <= (len(my_list)-1)):\n",
    "        # Try moving to the left (make sure we don't step out of the bounds of the array)\n",
    "        # I can do this by \"inserting\" myself into the array I removed myself from\n",
    "        #  \"np.insert()\" is the function we want for this!\n",
    "        left = my_index - 1\n",
    "        temp_list = np.insert(temp_list,left)\n",
    "        \n",
    "        # Check if this new location makes me happy. Remember, we have a function for this!\n",
    "        \n",
    "        \n",
    "        \n",
    "        # Try moving to the right (make sure we don't step out of the bounds of the array)\n",
    "        # Use the same method as moving to the left\n",
    "        right = my_index + 1\n",
    "        \n",
    "        # Check if this new location makes me happy. Remember, we have a function for this!\n",
    "        happy = yes_happy(temp_list, right)\n",
    "        if happy != True:\n",
    "            np.delete(temp_list, right)\n",
    "        \n",
    "        # Check to see if moving to the left made me happy,\n",
    "        # If so, define the new index that I need to move to.\n",
    "        # If not, check if the move to the right made me happy\n",
    "        # and update the index if it did.\n",
    "        # You could also considering include a print statement\n",
    "        # that says where you should move to be happy.\n",
    "        # Make sure that if I found a location that made me happy\n",
    "        # that I update the value of my \"happy\" variable so that the loop exits!\n",
    "        if happy== True:\n",
    "            new_index = left\n",
    "        elif r_happy == True:\n",
    "            new_index = right\n",
    "        \n",
    "        # If neither option is a happy move expand our search by one\n",
    "        # before returning to the top of the loop\n",
    "        i += 1\n",
    "    \n",
    "    # Finally, check to see if we succeeded in finding a place to move to.\n",
    "    if new_index == -1:\n",
    "        print (\"something has gone wrong with where_to_move! probably couldn't find a happy place.\")\n",
    "    \n",
    "    return new_index  "
   ]
  },
  {
   "cell_type": "markdown",
   "metadata": {},
   "source": [
    "**Note**: As you build your function, write some code down here to test it out. Try creating a sufficiently small world so that you can check by hand to see whether or not the code is identifying the right location to move people to."
   ]
  },
  {
   "cell_type": "markdown",
   "metadata": {},
   "source": [
    "---\n",
    "## Extra useful functions.\n",
    "\n",
    "The following two functions do the following:\n",
    "\n",
    "1. `find_all_unhappy` locates all of the unhappy people in a given board\n",
    "2. `make_moves` uses the list of unhappy people and the `where_to_move` function that you wrote to move people in order to maximize the overal perceived happiness."
   ]
  },
  {
   "cell_type": "code",
   "execution_count": null,
   "metadata": {},
   "outputs": [],
   "source": [
    "def find_all_unhappy(my_list, tol_prob=0.5, neighbor_N=4):\n",
    "    '''\n",
    "    This function takes the board and identifies\n",
    "    all the locations that are currently unhappy and returns\n",
    "    as list of the indices. We can use this list to move\n",
    "    people.\n",
    "    '''\n",
    "    unhappy_people = []\n",
    "    for i,person in enumerate(my_list):\n",
    "        happy = is_happy(my_list, i, tol_prob=tol_prob, neighbor_N=neighbor_N)\n",
    "        if happy == False:\n",
    "            unhappy_people.append(i)\n",
    "    return unhappy_people"
   ]
  },
  {
   "cell_type": "code",
   "execution_count": null,
   "metadata": {},
   "outputs": [],
   "source": [
    "def make_moves(my_list, unhappy, tol_prob=0.5, neighbor_N=4, print_output=False):\n",
    "    '''\n",
    "    This function takes a board and a list of unhappy\n",
    "    people. It steps through the list of unhappy people\n",
    "    and moves them to the location where they will be happy.\n",
    "    It also need to make sure that when one person moves that\n",
    "    the positions of the other unhappy people are shuffle accordingly.\n",
    "    Before those people are moved, we need to check if they\n",
    "    ended up happy by accident when the other people moved.\n",
    "    If so, we can leave them alone.\n",
    "    \n",
    "    This function returns all of the intermediate states\n",
    "    of the board as well as the final state.\n",
    "    '''\n",
    "    intermediate = np.array([])\n",
    "    unhappy = np.array(unhappy)\n",
    "    for i in range(len(unhappy)):\n",
    "        # Check to see if the unhappy person became happy.\n",
    "        # If so, move on without moving anyone\n",
    "        if is_happy(my_list,unhappy[i],tol_prob=tol_prob,neighbor_N=neighbor_N):\n",
    "            if print_output:\n",
    "                print(\"I'm not unhappy anymore\")\n",
    "            continue\n",
    "            \n",
    "        # Grab my value so that I can move it later\n",
    "        my_value = my_list[unhappy[i]]\n",
    "        \n",
    "        # Figure out where I need to move to\n",
    "        new_index = where_to_move(my_list, unhappy[i], tol_prob=tol_prob,\n",
    "                                  neighbor_N=neighbor_N, print_output=print_output)\n",
    "        if new_index == -1:\n",
    "            #Move on to the next unhappy person,\n",
    "            # perhaps there wasn't a place to move this one\n",
    "            continue\n",
    "        \n",
    "        # Move me\n",
    "        new_list = np.delete(my_list, unhappy[i])\n",
    "        new_list = np.insert(new_list, new_index, my_value)\n",
    "        \n",
    "        # Update the indexes of the unhappy people\n",
    "        # that may have shifted when the other unhappy person moved\n",
    "        if new_index < unhappy[i]:\n",
    "            unhappy[i+1:][unhappy[i+1:] == new_index] += 1\n",
    "        if new_index > unhappy[i]:\n",
    "            unhappy[i+1:][unhappy[i+1:] <= new_index] -= 1\n",
    "        unhappy[i] = new_index\n",
    "        \n",
    "        my_list = new_list.copy()\n",
    "        if print_output:\n",
    "            print(my_list)\n",
    "        intermediate = np.append(intermediate,my_list)\n",
    "        \n",
    "    return my_list, intermediate"
   ]
  },
  {
   "cell_type": "markdown",
   "metadata": {},
   "source": [
    "---\n",
    "## Putting it all together\n",
    "\n",
    "The following code puts all of the above pieces together to run a simulation and plot the result as the simulation evolves.\n",
    "\n",
    "&#9989;&nbsp; Run this once and then try changing the initial size of the board, the size of the neighborhood that people care about, and the tolerance for living next to different versus the same people. Watch out for runaway simulation. **For some parts of parameter space the model either takes a long time to converge to a steady state solution, or may never converge. The code makes sure to stop the code eventually, even if there are still too many \"unhappy\" peoiple.** In particular, you may run into issues for values of \"tolerance\" that are greater than 0.8.\n",
    "\n",
    "Note that this code uses `imshow()` in a way that is different than you might be used to. Each vertical line of the image is actually one state of the board. As you move to the right in the image, you move forward in time as folks are shuffled around in your virtual world. This is a useful way to visualize the behavior of a 1D world!\n",
    "\n",
    "In this model, you should see that people of the same type end up clustering together over time."
   ]
  },
  {
   "cell_type": "code",
   "execution_count": null,
   "metadata": {},
   "outputs": [],
   "source": [
    "# Put it all together\n",
    "\n",
    "import matplotlib.pyplot as plt\n",
    "%matplotlib inline\n",
    "fig = plt.figure(figsize=(10,8))\n",
    "\n",
    "# Create an array for storing all states of the board\n",
    "all_snapshots = np.array([])\n",
    "\n",
    "# Create the initial board\n",
    "people = initialize_board(256, seed=123)\n",
    "\n",
    "# Append this board to the array of all states\n",
    "all_snapshots = np.append(all_snapshots,people)\n",
    "\n",
    "# Define the desired tolerance and the size of the neighborhood\n",
    "tol_prob=0.5\n",
    "neighbor_N=4\n",
    "\n",
    "# Find the unhappy people\n",
    "unhappy = find_all_unhappy(people, tol_prob=tol_prob, neighbor_N=neighbor_N)\n",
    "\n",
    "# Run the loop until less than 5% of the population is unhappy\n",
    "# or until 15 iterations have occurred (to avoid an infinite loop)\n",
    "iter_count = 0\n",
    "iter_limit = 15\n",
    "while (len(unhappy) > (0.05 * len(people))) and (iter_count < iter_limit):\n",
    "    new_people,intermediate = make_moves(people, unhappy, tol_prob=tol_prob, neighbor_N=neighbor_N)\n",
    "    all_snapshots = np.append(all_snapshots,intermediate)\n",
    "    all_snapshots = np.append(all_snapshots,new_people)\n",
    "    \n",
    "    unhappy = find_all_unhappy(new_people, tol_prob=tol_prob, neighbor_N=neighbor_N)\n",
    "    people = new_people.copy()\n",
    "    iter_count += 1\n",
    "\n",
    "# Check to see if the solution may not have reached converged\n",
    "if iter_count >= iter_limit:\n",
    "    print(\"WARNING: This solution may not be converged! Or people may just be permanently unhappy for these conditions :(\\n\")\n",
    "    print(\"Feel free to experiment with the `iter_limit` variable at your own risk.\")\n",
    "    \n",
    "# Make a plot of our evolving world\n",
    "cmap = plt.cm.get_cmap('Greens', 2)\n",
    "plt.imshow(np.reshape(all_snapshots, (int(len(all_snapshots)/len(people)),len(people))).T,\n",
    "           cmap=cmap, origin=\"lower\", aspect='auto')\n",
    "plt.ylabel(\"Position on Board\")\n",
    "plt.xlabel(\"Time\")\n",
    "cb = plt.colorbar()\n",
    "cb.set_ticks([0,1])\n",
    "cb.set_label(\"Person Type\")"
   ]
  },
  {
   "cell_type": "markdown",
   "metadata": {},
   "source": [
    "&#9989;&nbsp; **Question** What behavior do you see emerge as you vary different parameters? Do the results behave as you would expect?"
   ]
  },
  {
   "cell_type": "markdown",
   "metadata": {},
   "source": [
    "<font size=\"+3\">&#9998;</font> *Put your answer here*"
   ]
  },
  {
   "cell_type": "markdown",
   "metadata": {},
   "source": [
    "---\n",
    "## Thinking about a 2D Schelling-type model\n",
    "\n",
    "In your pre-class assignment, you explored a 2D version of the Schelling model created by **Vi Hart and Nicky Case**, the \"[Parable of the Polygons](http://ncase.me/polygons/)\".\n",
    "\n",
    "Revisit this model and think about how you would write the code for this 2D model. How does it compare to the code that you wrote for the forest fire model? How is it different? **Write your answers below.**"
   ]
  },
  {
   "cell_type": "markdown",
   "metadata": {},
   "source": [
    "*Answer goes here!*"
   ]
  },
  {
   "cell_type": "markdown",
   "metadata": {},
   "source": [
    "If time allows, work with your group to write out some pseudo-code or diagrams on the whiteboards for how you would code up this game. Think about:\n",
    "\n",
    "1. What are the individual pieces of this model?  (In other words, if you had to break the model down into individual functions, what would they be?)\n",
    "2. If you had to create a flowchart to describe this model, what would it look like?  (Using the functions you brainstormed in the previous point.)\n",
    "3. How do you think that the function that decides whether a shape is happy, unhappy, or meh works?\n",
    "4. How do you think that the segregation metric is calculated?\n",
    "\n",
    "You need to consider how to set up the 2D world and how you would determine whether or not and person needs to move. You'd also have to plan out how you would go about identifying an empty space to move them to automatically. Think about how you would handle the case where a person wants to move if their neighborhood is not diverse enough, in contrast to being too diverse. How would you handle the case the in between case where a person wants to be both by people like them, but not too many people like them? How would you track their state of being as unhappy, happy, or meh? **Record some of your thoughts below**"
   ]
  },
  {
   "cell_type": "markdown",
   "metadata": {},
   "source": [
    "*Record your thoughts here!*"
   ]
  },
  {
   "cell_type": "markdown",
   "metadata": {},
   "source": [
    "---\n"
   ]
  },
  {
   "cell_type": "markdown",
   "metadata": {},
   "source": [
    "## Congratulations, you're done!\n",
    "\n",
    "Submit this assignment by uploading your notebook to the course Desire2Learn web page.  Go to the \"In-Class Assignments\" folder, find the appropriate submission link, and upload everything there. Make sure your name is on it!"
   ]
  },
  {
   "cell_type": "markdown",
   "metadata": {},
   "source": [
    "&#169; Copyright 2018,  Michigan State University Board of Trustees"
   ]
  }
 ],
 "metadata": {
  "kernelspec": {
   "display_name": "Python 3",
   "language": "python",
   "name": "python3"
  },
  "language_info": {
   "codemirror_mode": {
    "name": "ipython",
    "version": 3
   },
   "file_extension": ".py",
   "mimetype": "text/x-python",
   "name": "python",
   "nbconvert_exporter": "python",
   "pygments_lexer": "ipython3",
   "version": "3.8.5"
  }
 },
 "nbformat": 4,
 "nbformat_minor": 4
}
