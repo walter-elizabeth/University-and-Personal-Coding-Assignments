{
 "cells": [
  {
   "cell_type": "markdown",
   "metadata": {},
   "source": [
    "### <p style=\"text-align: right;\"> &#9989; Elizabeth Walter"
   ]
  },
  {
   "cell_type": "markdown",
   "metadata": {},
   "source": [
    "# Day 10 Pre-class Assignment: Visualizing data with Seaborn and using masks in NumPy\n",
    "\n",
    "<img src=\"https://seaborn.pydata.org/_images/scatterplot_matrix.png\" width=500px>"
   ]
  },
  {
   "cell_type": "markdown",
   "metadata": {},
   "source": [
    "## Goals for today's pre-class assignment\n",
    "\n",
    "* Use the seaborn module to visualize data\n",
    "* Practice using masks with NumPy arrays\n",
    "\n",
    "## Assignment instructions\n",
    "\n",
    "**This assignment is due by 11:59 p.m. the day before class,** and should be uploaded into the appropriate \"Pre-class assignments\" submission folder.  If you run into issues with your code, make sure to use Slack to help each other out and receive some assistance from the instructors. Submission instructions can be found at the end of the notebook."
   ]
  },
  {
   "cell_type": "markdown",
   "metadata": {},
   "source": [
    "### Useful reference\n",
    "\n",
    "For this pre-class assignment, you may find parts of the seaborn tutorial page useful:\n",
    "\n",
    "* https://seaborn.pydata.org/tutorial.html\n"
   ]
  },
  {
   "cell_type": "markdown",
   "metadata": {},
   "source": [
    "---\n",
    "## Part 1: Visualizing data with Seaborn\n",
    "\n",
    "When doing data analysis, visualizing your results can often be just as important as doing the analysis itself. Afterall, if you can't communicate your results effectively, what good was all the work that you did?\n",
    "\n",
    "Thus far in the course we've use standard matplotlib functions to visualize our results, but there is a handy package called Seaborn that tries to improve upon the basic aesthetics of matplotlib while also adding some specific functionality for doing statistical analysis of data.\n",
    "\n",
    "In this assignment, you're going to test out how to use seaborn to make plots and change the way they look.\n",
    "\n",
    "There first thing we need to do is import the `seaborn` module:"
   ]
  },
  {
   "cell_type": "code",
   "execution_count": 2,
   "metadata": {},
   "outputs": [],
   "source": [
    "# Import matplotlib and make sure plots will show up in the notebook\n",
    "import matplotlib.pyplot as plt\n",
    "%matplotlib inline\n",
    "\n",
    "# import seaborn  (\"sns\" is the commonly used variable name for seaborn)\n",
    "import seaborn as sns"
   ]
  },
  {
   "cell_type": "markdown",
   "metadata": {},
   "source": [
    "Of course, if we want to make some nice new visualizations, we need some data to plot. Let's revisit the Great Lakes data from a previous in-class assignment! However, instead of loading the `.csv` files with NumPy, let's use Pandas!"
   ]
  },
  {
   "cell_type": "code",
   "execution_count": 3,
   "metadata": {},
   "outputs": [
    {
     "data": {
      "text/html": [
       "<div>\n",
       "<style scoped>\n",
       "    .dataframe tbody tr th:only-of-type {\n",
       "        vertical-align: middle;\n",
       "    }\n",
       "\n",
       "    .dataframe tbody tr th {\n",
       "        vertical-align: top;\n",
       "    }\n",
       "\n",
       "    .dataframe thead th {\n",
       "        text-align: right;\n",
       "    }\n",
       "</style>\n",
       "<table border=\"1\" class=\"dataframe\">\n",
       "  <thead>\n",
       "    <tr style=\"text-align: right;\">\n",
       "      <th></th>\n",
       "      <th>Lake Ontario annual averages</th>\n",
       "      <th>AnnAvg</th>\n",
       "      <th>Unnamed: 2</th>\n",
       "      <th>Unnamed: 3</th>\n",
       "    </tr>\n",
       "  </thead>\n",
       "  <tbody>\n",
       "    <tr>\n",
       "      <th>0</th>\n",
       "      <td>1860</td>\n",
       "      <td>75.046167</td>\n",
       "      <td>NaN</td>\n",
       "      <td>1860-1917 levels are Oswego; 1918-present lake...</td>\n",
       "    </tr>\n",
       "    <tr>\n",
       "      <th>1</th>\n",
       "      <td>1861</td>\n",
       "      <td>75.232917</td>\n",
       "      <td>NaN</td>\n",
       "      <td>NaN</td>\n",
       "    </tr>\n",
       "    <tr>\n",
       "      <th>2</th>\n",
       "      <td>1862</td>\n",
       "      <td>75.238417</td>\n",
       "      <td>NaN</td>\n",
       "      <td>NaN</td>\n",
       "    </tr>\n",
       "    <tr>\n",
       "      <th>3</th>\n",
       "      <td>1863</td>\n",
       "      <td>75.113833</td>\n",
       "      <td>NaN</td>\n",
       "      <td>NaN</td>\n",
       "    </tr>\n",
       "    <tr>\n",
       "      <th>4</th>\n",
       "      <td>1864</td>\n",
       "      <td>75.044250</td>\n",
       "      <td>NaN</td>\n",
       "      <td>NaN</td>\n",
       "    </tr>\n",
       "  </tbody>\n",
       "</table>\n",
       "</div>"
      ],
      "text/plain": [
       "   Lake Ontario annual averages     AnnAvg  Unnamed: 2  \\\n",
       "0                          1860  75.046167         NaN   \n",
       "1                          1861  75.232917         NaN   \n",
       "2                          1862  75.238417         NaN   \n",
       "3                          1863  75.113833         NaN   \n",
       "4                          1864  75.044250         NaN   \n",
       "\n",
       "                                          Unnamed: 3  \n",
       "0  1860-1917 levels are Oswego; 1918-present lake...  \n",
       "1                                                NaN  \n",
       "2                                                NaN  \n",
       "3                                                NaN  \n",
       "4                                                NaN  "
      ]
     },
     "execution_count": 3,
     "metadata": {},
     "output_type": "execute_result"
    }
   ],
   "source": [
    "# import pandas\n",
    "import pandas as pd\n",
    "\n",
    "# Load up the Lake Ontario data\n",
    "# (remember, you need to have a copy of the data in the same location as this notebook)\n",
    "ont = pd.read_csv(\"lake_ontario.csv\")\n",
    "ont.head()"
   ]
  },
  {
   "cell_type": "markdown",
   "metadata": {},
   "source": [
    "Hmm, why do we have two \"Unnamed\" columns? Take a look at the original .csv file and determine why this is happening. Since carrying around columns that are full of \"NaN\"s isn't particularly useful, we're going to use Pandas to \"drop\" those columns and create a new dataframe that doesn't contain those columns:"
   ]
  },
  {
   "cell_type": "code",
   "execution_count": null,
   "metadata": {},
   "outputs": [],
   "source": [
    "# Drop the unnamed columns and store the new version of the dataframe\n",
    "ont = ont.drop(columns=[\"Unnamed: 2\", \"Unnamed: 3\"])\n",
    "ont.head()"
   ]
  },
  {
   "cell_type": "markdown",
   "metadata": {},
   "source": [
    "This looks much better!\n",
    "\n",
    "&#9989;&nbsp; **Do the same thing with the other lake files: `lake_erie.csv`, `lake_superior.csv`, and `lake_mhu.csv`. Make sure the dataframes have all of the right information in them and no undesired columns.**\n",
    "\n",
    "**Note**: you might notice that the Lake Erie file is missing a column label and that you end up with one extra \"Unnamed\" column, but instead of being full of NaNs, it's the column with the actual lake levels. See if you can figure out how to rename the \"Unnamed\" column using the [`rename()`](https://pandas.pydata.org/pandas-docs/stable/generated/pandas.DataFrame.rename.html) function. Remember that you need to store the new dataframe that is created by the `rename` function."
   ]
  },
  {
   "cell_type": "code",
   "execution_count": null,
   "metadata": {},
   "outputs": [],
   "source": [
    "# Put your code here for reading in the other lake files using Pandas\n",
    "erie = pd.read_csv(\"lake_erie.csv\")\n",
    "erie = erie.rename(columns={\"Unnamed: 1\": \"AnnAvg\"})\n",
    "erie = erie.drop(columns=[\"Unnamed: 2\", \"Unnamed: 3\", \"Unnamed: 4\"])\n",
    "erie.head()"
   ]
  },
  {
   "cell_type": "code",
   "execution_count": null,
   "metadata": {},
   "outputs": [],
   "source": [
    "sup = pd.read_csv(\"lake_superior.csv\")\n",
    "sup = sup.drop(columns=[\"Unnamed: 2\", \"Unnamed: 3\", \"Unnamed: 4\"])\n",
    "sup.head()"
   ]
  },
  {
   "cell_type": "code",
   "execution_count": null,
   "metadata": {},
   "outputs": [],
   "source": [
    "mhu = pd.read_csv(\"lake_mhu.csv\")\n",
    "mhu = mhu.drop(columns=[\"Unnamed: 2\", \"Unnamed: 3\", \"Unnamed: 4\"])\n",
    "mhu.head()"
   ]
  },
  {
   "cell_type": "markdown",
   "metadata": {},
   "source": [
    "### Making seaborn plots\n",
    "\n",
    "Now that you have all the data loaded up, let's try making some of the same plots we made for the Great Lakes data in class.\n",
    "\n",
    "First, we'll make a plot of the Lake Ontario levels as a function of time:"
   ]
  },
  {
   "cell_type": "code",
   "execution_count": null,
   "metadata": {},
   "outputs": [],
   "source": [
    "sns.set()\n",
    "plt.plot(ont['Lake Ontario annual averages'], ont['AnnAvg'])"
   ]
  },
  {
   "cell_type": "markdown",
   "metadata": {},
   "source": [
    "You should get a plot that looks familiar but looks a bit different than a normal matplotlib plot.\n",
    "\n",
    "&#9989;&nbsp; **Question**: What is the `sns.set()` line doing? You might want to refer to the seaborn documentation here: https://seaborn.pydata.org/tutorial/aesthetics.html. Note that the `set()` command only needs to be called once for the effect to be applied to all future plots."
   ]
  },
  {
   "cell_type": "markdown",
   "metadata": {},
   "source": [
    "<font size=\"+3\">&#9998;</font> It imports Seaborn defaults for style/formatting"
   ]
  },
  {
   "cell_type": "markdown",
   "metadata": {},
   "source": [
    "&#9989;&nbsp; **Add some axis labels to the plot and then make similar plots for each of the Lake data files.**"
   ]
  },
  {
   "cell_type": "code",
   "execution_count": null,
   "metadata": {},
   "outputs": [],
   "source": [
    "# Put your code here and create new cells as necessary\n",
    "plt.plot(erie['Lake Erie annual averages'], erie['AnnAvg'])\n",
    "plt.xlabel('Year')\n",
    "plt.ylabel('Annual Average')\n",
    "plt.title('Lake Erie Annual Water Level Averages')\n",
    "plt.show()"
   ]
  },
  {
   "cell_type": "code",
   "execution_count": null,
   "metadata": {},
   "outputs": [],
   "source": [
    "plt.plot(sup['Lake Superior annual averages'], sup['AnnAvg'])\n",
    "plt.xlabel('Year')\n",
    "plt.ylabel('Annual Average')\n",
    "plt.title('Lake Superior Annual Water Level Averages')\n",
    "plt.show()"
   ]
  },
  {
   "cell_type": "code",
   "execution_count": null,
   "metadata": {},
   "outputs": [],
   "source": [
    "plt.plot(mhu['Michigan-Huron annual averages'], mhu['AnnAvg'])\n",
    "plt.xlabel('Year')\n",
    "plt.ylabel('Annual Average')\n",
    "plt.title('Lake Michigan-Huron Annual Water Level Averages')\n",
    "plt.show()"
   ]
  },
  {
   "cell_type": "markdown",
   "metadata": {},
   "source": [
    "&#9989;&nbsp; Now, **make a scatter plot of the Lake Ontario levels versus the Lake Erie levels and give it appropriate axis labels.**"
   ]
  },
  {
   "cell_type": "code",
   "execution_count": null,
   "metadata": {},
   "outputs": [],
   "source": [
    "plt.plot(erie['AnnAvg'],ont['AnnAvg'],'g.')\n",
    "plt.xlabel('Lake Erie')\n",
    "plt.ylabel('Lake Ontario')\n",
    "plt.title('Lake Ontario Water Level vs. Lake Erie Water Level')\n",
    "plt.grid(True)\n",
    "plt.show()"
   ]
  },
  {
   "cell_type": "markdown",
   "metadata": {},
   "source": [
    "It turns out that seaborn offers more than one sort of plot style and you can change the style using `set_style()`.\n",
    "\n",
    "&#9989;&nbsp; Refer to the [documentation](https://seaborn.pydata.org/tutorial/aesthetics.html#seaborn-figure-styles) to see what the different options are and then **try them out with your scatter plot**. You should also test out the `despine()` function and see what that does."
   ]
  },
  {
   "cell_type": "code",
   "execution_count": 75,
   "metadata": {},
   "outputs": [
    {
     "data": {
      "image/png": "[encoded data removed]",
      "text/plain": [
       "<Figure size 432x288 with 1 Axes>"
      ]
     },
     "metadata": {},
     "output_type": "display_data"
    }
   ],
   "source": [
    "# Change the seaborn style here and remake your scatterplot\n",
    "# test the \"despine\" function as well\n",
    "plt.plot(erie['AnnAvg'],ont['AnnAvg'],'g.')\n",
    "plt.xlabel('Lake Erie')\n",
    "plt.ylabel('Lake Ontario')\n",
    "plt.title('Lake Ontario Water Level vs. Lake Erie Water Level')\n",
    "plt.grid(True)\n",
    "sns.set_style(\"white\")\n",
    "sns.despine()\n",
    "# plt.show() ---  ig you dont need this "
   ]
  },
  {
   "cell_type": "markdown",
   "metadata": {},
   "source": [
    "&#9989;&nbsp; **Question**: Which style do you prefer? When might you use one style versus another?"
   ]
  },
  {
   "cell_type": "markdown",
   "metadata": {},
   "source": [
    "<font size=\"+3\">&#9998;</font> *Put your answer here*"
   ]
  },
  {
   "cell_type": "markdown",
   "metadata": {},
   "source": [
    "Seaborn can also be really useful when you need to modify a plot to show up better in a presentation, on a poster, or in a paper. This can be done using the `set_context()` function.\n",
    "\n",
    "&#9989;&nbsp; Refer to the [documention](https://seaborn.pydata.org/tutorial/aesthetics.html#scaling-plot-elements) and **make a new version of your scatter plot using each available context**. "
   ]
  },
  {
   "cell_type": "code",
   "execution_count": null,
   "metadata": {},
   "outputs": [],
   "source": [
    "# Put your code here and create new cells as necessary\n"
   ]
  },
  {
   "cell_type": "markdown",
   "metadata": {},
   "source": [
    "Finally, as mentioned earlier, Seaborn can be used to do data analysis as well. For example, you can use the [`jointplot()`](https://seaborn.pydata.org/generated/seaborn.jointplot.html) function to make a scatter plot similar to the one that you just made with matplotlib, but with additional information about the distribution of the data along each axis.\n",
    "\n",
    "&#9989;&nbsp; **Using the same data values that you used for the previous scatter plot, create a Seaborn [jointplot](https://seaborn.pydata.org/generated/seaborn.jointplot.html)**. **Try using the `kind` argument to add a best fit line to the data.** The bars on the top and side of the plot show the histogram of the values for each lake."
   ]
  },
  {
   "cell_type": "code",
   "execution_count": null,
   "metadata": {},
   "outputs": [],
   "source": [
    "# Put your jointplot code here\n"
   ]
  },
  {
   "cell_type": "markdown",
   "metadata": {},
   "source": [
    "&#9989;&nbsp; **Try out `jointplot` with other combinations of lake data as well**"
   ]
  },
  {
   "cell_type": "code",
   "execution_count": null,
   "metadata": {},
   "outputs": [],
   "source": [
    "# Put some more example plots here\n"
   ]
  },
  {
   "cell_type": "markdown",
   "metadata": {},
   "source": [
    "---\n",
    "## Part 2: Masking data\n",
    "\n",
    "Sometimes, when we're working with data, it can be really useful to mask out certain values or filter our data to only show values in ranges we care about. You'll get an opportunity to practice using masks with Pandas dataframes in class, but we can also do this with NumPy arrays.\n",
    "\n",
    "The exercises that follow should act as some basic examples for how you can use masks to interact with NumPy arrays."
   ]
  },
  {
   "cell_type": "markdown",
   "metadata": {},
   "source": [
    "---\n",
    "The following example creates a two-dimensional (2D) NumPy array of random values between 0 and 1 and then uses a conditional statement (`vals > 0.5`) to create a **boolean mask**, which is really just an array of `True` and `False` values that can be used to grab the numbers in the array that match our criteria. That mask is then used to create a new array of only the values that satisfied the conditional statement.\n",
    "\n",
    "&#9989;&nbsp; **Review the code and the resulting arrays and make sure you understand how the masking process works**"
   ]
  },
  {
   "cell_type": "code",
   "execution_count": 4,
   "metadata": {},
   "outputs": [
    {
     "name": "stdout",
     "output_type": "stream",
     "text": [
      "[[0.36512994 0.86548795 0.35085682 0.1185451  0.99857103]\n",
      " [0.96118353 0.65716276 0.21209213 0.82320916 0.24921274]\n",
      " [0.44444169 0.3113373  0.74625126 0.66100175 0.20205505]\n",
      " [0.63476676 0.23177783 0.46633587 0.5182841  0.89947818]\n",
      " [0.04514464 0.86861404 0.9496927  0.89976996 0.84558319]]\n",
      "[[False  True False False  True]\n",
      " [ True  True False  True False]\n",
      " [False False  True  True False]\n",
      " [ True False False  True  True]\n",
      " [False  True  True  True  True]]\n",
      "[0.86548795 0.99857103 0.96118353 0.65716276 0.82320916 0.74625126\n",
      " 0.66100175 0.63476676 0.5182841  0.89947818 0.86861404 0.9496927\n",
      " 0.89976996 0.84558319]\n"
     ]
    }
   ],
   "source": [
    "import numpy as np\n",
    "\n",
    "# Create a 5x5 array of random number between 0 and 1\n",
    "vals = np.random.random((5,5))\n",
    "print(vals)\n",
    "\n",
    "# Create a mask to locate all values greater than 0.5\n",
    "mask = vals > 0.5\n",
    "print(mask)\n",
    "\n",
    "# Create a new array of values that contains just the\n",
    "# number that are greater than 0.5\n",
    "greater_than = vals[mask]\n",
    "print(greater_than)"
   ]
  },
  {
   "cell_type": "markdown",
   "metadata": {},
   "source": [
    "We can actually do the same thing in a more compact way by just putting the conditional statement right inside the array brackets, like so:"
   ]
  },
  {
   "cell_type": "code",
   "execution_count": 2,
   "metadata": {},
   "outputs": [
    {
     "name": "stdout",
     "output_type": "stream",
     "text": [
      "[0.5848932  0.59878572 0.67380828 0.96016534 0.76799969 0.51255339\n",
      " 0.92083593 0.90854184 0.69075629 0.72291307 0.84568881 0.67971347\n",
      " 0.83496692]\n"
     ]
    }
   ],
   "source": [
    "greater_than_2 = vals[vals > 0.5]\n",
    "print(greater_than_2)"
   ]
  },
  {
   "cell_type": "markdown",
   "metadata": {},
   "source": [
    "Using masks with arrays can also be very useful for finding values in arrays that are equal to a particular number. We can use the \"`==`\" operator to do this.\n",
    "\n",
    "&#9989;&nbsp; **Look at the following example and make sure you understand what it is doing. Add comments to explain what each line does.**"
   ]
  },
  {
   "cell_type": "code",
   "execution_count": 5,
   "metadata": {},
   "outputs": [
    {
     "name": "stdout",
     "output_type": "stream",
     "text": [
      "[[0 1 1 0 0]\n",
      " [0 0 1 2 1]\n",
      " [1 1 2 0 0]\n",
      " [1 1 2 2 2]\n",
      " [0 1 2 2 0]]\n",
      "[2 2 2 2 2 2 2]\n",
      "The total number of twos on the board is 7\n"
     ]
    }
   ],
   "source": [
    "# create a 5 x 5 array of random numbers between 0 and 3\n",
    "board = np.random.randint(0,3,size=(5,5))\n",
    "\n",
    "# print the array\n",
    "print(board)\n",
    "\n",
    "# create a variable \"twos\" that contains all values in the board that equal 2\n",
    "twos = board == 2\n",
    "\n",
    "# print the container 'twos' of all the 2's\n",
    "print(board[twos])\n",
    "\n",
    "# print string + sum of the amount of 2's in the container 'twos'\n",
    "print(\"The total number of twos on the board is\",len(board[twos]))"
   ]
  },
  {
   "cell_type": "markdown",
   "metadata": {},
   "source": [
    "What if we want to know *where* in an array a particular number is? It turns out that NumPy has a function that can figure that out for you. Not surprisingly, this is called [`np.where()`](https://docs.scipy.org/doc/numpy/reference/generated/numpy.where.html).\n",
    "\n",
    "Let's use the same type of example array as above, but this time we'll check to see \"where\" the value in the array is equal to 1. We can use the results of where as a mask for our array as well.\n",
    "\n",
    "&#9989;&nbsp; **Review the code and make sure you understand what it is doing**."
   ]
  },
  {
   "cell_type": "code",
   "execution_count": 6,
   "metadata": {},
   "outputs": [
    {
     "name": "stdout",
     "output_type": "stream",
     "text": [
      "[[1 0 0 2 0]\n",
      " [0 2 0 2 1]\n",
      " [2 2 0 1 1]\n",
      " [1 0 2 0 1]\n",
      " [1 1 1 0 1]]\n",
      "(array([0, 1, 2, 2, 3, 3, 4, 4, 4, 4], dtype=int64), array([0, 4, 3, 4, 0, 4, 0, 1, 2, 4], dtype=int64))\n",
      "[1 1 1 1 1 1 1 1 1 1]\n"
     ]
    }
   ],
   "source": [
    "board = np.random.randint(0,3,size=(5,5))\n",
    "print(board)\n",
    "\n",
    "indices = np.where(board == 1)  \n",
    "print(indices)\n",
    "# create variable 'indices'; wherever value in array 'board' = 1, an array is created that has the location(index) of all ofthe 1's in the board.\n",
    "# Idk what the first array in 'indices' is of.\n",
    "print(board[indices])\n",
    "# print(item from 'board' located at [indices]) -- since 'indices' is an array, board[indices] will print as an array \n",
    "       # containing the value of 'board' located at each index.\n",
    "       # will print an array of 1's bc board[indices] = board[np.where(board == 1)]\n"
   ]
  },
  {
   "cell_type": "code",
   "execution_count": 7,
   "metadata": {},
   "outputs": [
    {
     "ename": "SyntaxError",
     "evalue": "invalid syntax (<ipython-input-7-e0266a5a1626>, line 4)",
     "output_type": "error",
     "traceback": [
      "\u001b[1;36m  File \u001b[1;32m\"<ipython-input-7-e0266a5a1626>\"\u001b[1;36m, line \u001b[1;32m4\u001b[0m\n\u001b[1;33m    >> a = np.arange(10)\u001b[0m\n\u001b[1;37m    ^\u001b[0m\n\u001b[1;31mSyntaxError\u001b[0m\u001b[1;31m:\u001b[0m invalid syntax\n"
     ]
    }
   ],
   "source": [
    "# another example (from np.where() link) for my understanding\n",
    "# >> means that line is an input\n",
    "\n",
    ">> a = np.arange(10)\n",
    ">> a \n",
    "array([0, 1, 2, 3, 4, 5, 6, 7, 8, 9])\n",
    ">> np.where(a < 5, a, 10*a) # where a < 5, return a, all else, return 10*a\n",
    "array([ 0,  1,  2,  3,  4, 50, 60, 70, 80, 90])\n",
    "#     [ a,  a,  a,  a,  a, 10*a, 10*a, 10*a, 10*a]\n",
    "# (condition[x,y])\n",
    "# given an array, a: return an array: condition for what to return,x,y (when true: print x, else: print y)\n",
    "# here: condition = a < 5, x = a, y = 10*a"
   ]
  },
  {
   "cell_type": "markdown",
   "metadata": {},
   "source": [
    "&#9989;&nbsp; **Question**: What exactly is `np.where` returning?"
   ]
  },
  {
   "cell_type": "markdown",
   "metadata": {},
   "source": [
    "It is returning 2 arrays. The second is the index"
   ]
  },
  {
   "cell_type": "markdown",
   "metadata": {},
   "source": [
    "&#9989;&nbsp; Try it for yourself! The following code creates a 2D array of integers from 0 through 9. Using that array, do the following:\n",
    "\n",
    "1. **Write some additional code to create a mask for every element in the array that is less than or equal to 7 and print the masked array to make sure it worked.**\n",
    "2. **Use `np.where` to determine which elements in the array are equal to 5. Print the resulting indices.**"
   ]
  },
  {
   "cell_type": "code",
   "execution_count": null,
   "metadata": {},
   "outputs": [],
   "source": [
    "board = np.random.randint(0,10,size=(8,8))\n",
    "print(board)\n",
    "\n",
    "# Put your code here\n",
    "\n",
    "#create a mask for ev element <= 7 then print masked array\n",
    "board_7_up = board[board >= 7]\n",
    "print(board_7_up)\n",
    "\n",
    "# use np.where to determine which elements in array = 5. Print\n",
    "print(np.where(condition= 5, x=5, y=0))"
   ]
  },
  {
   "cell_type": "markdown",
   "metadata": {},
   "source": [
    "Try to think about applications when masking NumPy arrays might be useful. Hopefully you'll start to see opportunities to use this handy trick as you work on new code in the course!"
   ]
  },
  {
   "cell_type": "markdown",
   "metadata": {},
   "source": [
    "### Congratulations, you're done!\n",
    "\n",
    "Submit this assignment by uploading it to the course Desire2Learn web page.  Go to the \"Pre-class assignments\" folder, find the appropriate submission link, and upload it there.\n",
    "\n",
    "See you in class!"
   ]
  },
  {
   "cell_type": "markdown",
   "metadata": {},
   "source": [
    "&#169; Copyright 2018,  Michigan State University Board of Trustees"
   ]
  }
 ],
 "metadata": {
  "anaconda-cloud": {},
  "kernelspec": {
   "display_name": "Python 3",
   "language": "python",
   "name": "python3"
  },
  "language_info": {
   "codemirror_mode": {
    "name": "ipython",
    "version": 3
   },
   "file_extension": ".py",
   "mimetype": "text/x-python",
   "name": "python",
   "nbconvert_exporter": "python",
   "pygments_lexer": "ipython3",
   "version": "3.8.5"
  }
 },
 "nbformat": 4,
 "nbformat_minor": 4
}
