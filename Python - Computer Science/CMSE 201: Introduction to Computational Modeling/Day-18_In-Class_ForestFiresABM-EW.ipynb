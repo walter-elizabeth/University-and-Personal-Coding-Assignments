{
 "cells": [
  {
   "cell_type": "markdown",
   "metadata": {},
   "source": [
    "### <p style=\"text-align: right;\"> &#9989; Elizabeth Walter</p>\n",
    "\n",
    "#### <p style=\"text-align: right;\"> &#9989; Ashlin Riggs, Kyle Cowden, Brooke Lapinski, Jordan Grimm, Dallas Foley</p>"
   ]
  },
  {
   "cell_type": "markdown",
   "metadata": {},
   "source": [
    "# Day 18 In-class Assignment: Modeling forest fires with an Agent-based Model \n",
    "\n",
    "<img src=\"https://cdn-images-1.medium.com/max/2000/1*VO9nuzrJ9XseMyxdtPh_vg.jpeg\" width=500>"
   ]
  },
  {
   "cell_type": "markdown",
   "metadata": {},
   "source": [
    "## Goals of this assignment\n",
    "\n",
    "The primary goal of this assignment is to model the spread of a forest fire using an agent-based model (ABM).  In doing so, we will:\n",
    "\n",
    "* Use ABM to model forest fires\n",
    "* Examine and quantify the concept of a \"tipping point\" in a model.\n",
    "\n",
    "## Assignment instructions\n",
    "\n",
    "Work with your group to complete this assignment. The first part of the assignment involves working out a plan for your model on the whiteboards and taking a picture of it. This picture should be uploaded to D2L along with your notebook in the appropriate submission folder. The assignment is due at the end of class."
   ]
  },
  {
   "cell_type": "markdown",
   "metadata": {},
   "source": [
    "---\n",
    "## Reviewing the motivation for the model\n",
    "\n",
    "### Why model forest fires?\n",
    "\n",
    "While this isn't a huge problem in Michigan, the states in the western United States having been suffering a tremendous problem with huge and difficult-to-control forest fires.  This comes from a combination of extended drought conditions, dense woodlands, and forest management policies that suppress small fires and thus ensure that large quantities of dead, dry trees and brush are available to burn when a large fire inevitably starts (typically from lighting strikes, but occasionally from negligent campers).  In recent years, this has been exacerbated by climate change, which has both caused drought conditions to be more severe and allowed tree-killing diseases and insects to flourish, which produces more dead, easily-burned wood.\n",
    "\n",
    "These forest fires destroy ecosystems and peoples' homes and other property, and can result in the loss of human and animal life.  A key challenge in forest management is to attempt to contain these huge forest fires once they start, in order to protect human lives, settlements, and infrastructure.  To that end, it is critical to have models of how fire spreads in various conditions; see, for example, the [Open Wildland Fire Modeling group](https://www.openwfm.org/wiki/Open_Wildland_Fire_Modeling_E_community_Wiki).\n",
    "\n",
    "More generally, the type of model that we're going to create is an example of a \"percolation\" model, where one substance (in this case, fire) moves through another substance (in this case, forest).  This type of problem is interesting in a variety of fields, including geology (oil or water percolating through rock, sand, or soil), human behavior (crowd movement in amusement parks), and in physics (understanding how two materials mix together).  \n",
    "\n",
    "### What is a \"tipping point\"?\n",
    "\n",
    "This model also demonstrates the concept of a \"critical threshold\" or a \"tipping point\".  This is a phenomenon that occurs when a small change in an input parameter results in a large change in outcome.  This is a phenomenon that shows up in both simple and complex models, and happens in such varied circumstances as forest fires, the spread of disease in populations, and the transfer of information within a population."
   ]
  },
  {
   "cell_type": "markdown",
   "metadata": {},
   "source": [
    "---\n",
    "# A reminder of ABM forest fire behavior\n",
    "\n",
    "As a reference, feel free to look the NetLogo version before you get started today. **DO NOT SPEND TOO MUCH TIME PLAYING WITH THIS!**\n",
    "\n",
    "**Click this link to access the model**: [Web-based NetLogo Fire model](http://netlogoweb.org/launch#http://netlogoweb.org/assets/modelslib/Sample%20Models/Earth%20Science/Fire.nlogo). \n",
    "\n",
    "**Running the model:**  The only parameter that you can vary is \"density\", which the fraction of cells that contain trees (and thus the density of trees in the forest).  You can drag the slider back and forth to change the density.  After you do that, click the \"setup\" button and then click \"go\".\n",
    "\n",
    "**What do you observe?**  Try setting the \"density\" value to various numbers between 0 and 99, and see how the wildfire spreads.  What happens when the value is low versus when it is high?  Is there any particular value where the behavior changes very rapidly as you change the density of trees?  If so, try to home in on that number and report it below."
   ]
  },
  {
   "cell_type": "markdown",
   "metadata": {},
   "source": [
    "---\n",
    "## The rules for our model\n",
    "\n",
    "In this model, we'll create a two-dimensional square array with sides $N$ cells long that represents the forested region we're simulating.  **The cells in the array can have three values: 0 (empty), 1 (trees), and 2 (on fire).**  At the beginning of the model, a user-specified fraction of the cells $f_\\text{trees_start}$ (equivalent to the NetLogo `density` parameter) are randomly filled with trees, and the remaining cells are empty.  \n",
    "**One edge of the board (say, the entire leftmost column) is set on fire.**\n",
    "\n",
    "Each cell has a \"neighborhood\" that is composed of its four neighbors to the left, right, above, and below it.  (Note: not the diagonal elements!)  If a cell is along one of the edges of the array, only consider the neighbors that it has, and don't try to go out of the bounds of the array!\n",
    "\n",
    "The model takes steps forward in time, where every cell is modified based on the previous step.  The model evolves as follows:\n",
    "\n",
    "* If the cell was empty last turn, it stays empty this turn.\n",
    "* If the cell is a tree and any of its neighbors were on fire last turn, it catches on fire.\n",
    "* If the cell was on fire last turn, the fire has consumed all of the trees and it is now empty.\n",
    "\n",
    "The model evolves forward in time until all of the fires have burned out.  After this happens, you can calculate the fraction of the cells that still have trees at the end of the model ($f_\\text{trees_end}$) and the fraction of cells that are empty ($f_\\text{empty}$).  The fraction of burned cells, $f_\\text{burned}$, is just the difference between the fraction of cells that were initially trees and the fraction of cells that are trees at the end of the model; in other words,\n",
    "\n",
    "$f_\\text{burned} = f_\\text{trees_end} - f_\\text{trees_start}$\n"
   ]
  },
  {
   "cell_type": "markdown",
   "metadata": {},
   "source": [
    "\n",
    "## Your mission:\n",
    "\n",
    "Your mission is to answer the question: \"How does the spread of fire relate to the density of the forest?\"  \n",
    "More precisely, we're asking \"How does $f_\\text{burned}$ depend on $f_\\text{trees_start}$?\"\n",
    "\n",
    "To achieve this mission, we will break this down into two stages:\n",
    "\n",
    "---\n",
    "### Stage 1:  Planning your solution\n",
    "\n",
    "&#9989;&nbsp; As a group create pseudocode using a virtual collaboration tool that shows how you plan to implement this model for an arbitrary value of $f_\\text{trees_start}$.  Make sure that you think about how to set up the initial conditions, how to evolve the model, and how to calculate the fraction of trees and empty cells that remain in the end.  Use the virtual tool and make sure to take or download a picture of it. **You must turn in the picture along with your notebook.**\n",
    "\n",
    "**Important**: Make sure you discuss how you will handle cells that are on the boundaries of your 2D board!\n",
    "\n",
    "**Do not spend more than 20 minutes on this part of the activity!**\n",
    "___"
   ]
  },
  {
   "cell_type": "markdown",
   "metadata": {},
   "source": [
    "### Stage 2: Implementing your solution\n",
    "\n",
    "Now we're going to work through a combination of provided code and code that you have to write. The goal is to have a functioning forest fire model by the end of class!\n",
    "\n",
    "**Make sure to execute the following cell of imports before you move on!**"
   ]
  },
  {
   "cell_type": "code",
   "execution_count": null,
   "metadata": {},
   "outputs": [],
   "source": [
    "# standard includes\n",
    "import numpy as np\n",
    "import numpy.random as rand\n",
    "%matplotlib inline\n",
    "import matplotlib.pyplot as plt\n",
    "\n",
    "# Next we are going to import some specific libraries we will use to get the animation to work cleanly\n",
    "from IPython.display import display, clear_output\n",
    "import time  "
   ]
  },
  {
   "cell_type": "markdown",
   "metadata": {},
   "source": [
    "### First important Function: Plotting the grid!\n",
    "\n",
    "Take a look at the `plotgrid` function. You were given a similar one in your pre-class assignment. We'll be using this code a lot for displaying your forest, so we want to make sure you understand it.\n",
    "\n",
    "&#9989;&nbsp; **Fill in the comments to explain what the code is doing.**"
   ]
  },
  {
   "cell_type": "code",
   "execution_count": null,
   "metadata": {},
   "outputs": [],
   "source": [
    "# Function plotgrid() does what?? -> takes in a 2d array and makes a plot using matplotlib\n",
    "\n",
    "def plotgrid(myarray):\n",
    "    \n",
    "    # create 2 vectors from x and y sizes of grid\n",
    "    x_range = np.linspace(0, myarray.shape[1]-1, myarray.shape[1]) # horizontal\n",
    "    y_range = np.linspace(0, myarray.shape[0]-1, myarray.shape[0]) # vertical\n",
    "    \n",
    "    # create 2 matrices of same size as myarray w/ x and y indexes\n",
    "    x_indices, y_indices = np.meshgrid(x_range, y_range)\n",
    "    \n",
    "    # making lists of all x and y indices that are trees and all x & y indices that are fires\n",
    "    tree_x = x_indices[myarray == 1];   \n",
    "    tree_y = y_indices[myarray == 1]; \n",
    "    fire_x = x_indices[myarray == 2];   \n",
    "    fire_y = y_indices[myarray == 2]; \n",
    "    \n",
    "    # plot the trees and the the fires\n",
    "    plt.plot(tree_x, myarray.shape[0] - tree_y - 1, 'gs',markersize=10)   \n",
    "    plt.plot(fire_x, myarray.shape[0] - fire_y - 1, 'rs',markersize=10)  \n",
    "    \n",
    "    # x and y limits set to have 1 space of overlap\n",
    "    plt.xlim([-1,myarray.shape[1]])\n",
    "    plt.ylim([-1,myarray.shape[0]]) \n",
    "\n",
    "    # no axis ticks or labels\n",
    "    plt.tick_params(axis='both', which='both',\n",
    "                    bottom=False, top=False, left=False, right=False,\n",
    "                    labelbottom=False, labelleft=False)"
   ]
  },
  {
   "cell_type": "markdown",
   "metadata": {},
   "source": [
    "### Initializing the forest\n",
    "\n",
    "Before you can run a forest model, you need to initialize you board. You should have already done this in your pre-class assignment, so we're providing the following code for you.\n",
    "\n",
    "&#9989;&nbsp; **Take a look at it and make sure you understand it. How does it compare to the code that you wrote?**"
   ]
  },
  {
   "cell_type": "code",
   "execution_count": null,
   "metadata": {},
   "outputs": [],
   "source": [
    "def set_board(board_size=50,f_trees_start=0.5):\n",
    "    '''\n",
    "    Creates the initial game board.\n",
    "\n",
    "    Inputs:\n",
    "        board_size: length of one edge of the board\n",
    "        f_trees_start: probability that a given cell is a tree\n",
    "                       (effectively the tree density)\n",
    "\n",
    "    Outputs a 2D numpy array with values set to either 0, 1, or 2\n",
    "        (empty, tree, or fire)\n",
    "    '''\n",
    "    \n",
    "    # all cells initialized to 'empty' (0) by default\n",
    "    game_board = np.zeros((board_size,board_size),dtype='int64')\n",
    "    \n",
    "    # loop over board and roll the dice; if the random number is less\n",
    "    # than f_trees_start, make it a tree.\n",
    "    for i in range(board_size):\n",
    "        for j in range(board_size):\n",
    "            if rand.random() <= f_trees_start:\n",
    "                game_board[i,j] = 1\n",
    "\n",
    "    # set the whole left edge of the board on fire. We're arsonists!\n",
    "    game_board[:,0] = 2\n",
    "    \n",
    "    return game_board"
   ]
  },
  {
   "cell_type": "markdown",
   "metadata": {},
   "source": [
    "#### &#9989;&nbsp; Important step! Test the functions above and make sure they work! \n",
    "\n",
    "Does the fire show up in the places you want? Does the tree fraction or board size change accordingly when you change the input parameters? Would you make any modifications to plot grid that you think would improve the visualization? What happens if you make the board size much larger than the default? If can think of ways to improve `plotgrid`, feel free to make those changes! "
   ]
  },
  {
   "cell_type": "code",
   "execution_count": null,
   "metadata": {},
   "outputs": [],
   "source": [
    "# put your test code here. Make a plot to check it.\n",
    "# we're going to define a default figure size for you to make things look nice\n",
    "fig = plt.figure(figsize=(10,10))\n",
    "forest = set_board()\n",
    "plotgrid(forest)"
   ]
  },
  {
   "cell_type": "markdown",
   "metadata": {},
   "source": [
    "## The main event: make the fire spread!\n",
    "\n",
    "Clearly the most import part of an agent-based model is figuring out how your agents should behave in your simulation. In this model, the main agent you have to deal with is the fire. Your job is to write the function that controls how the fire moves. The skeleton function provided below takes in the current board, defines a new board, and then returns that new board where the positions of the fire have been updated. The function contains comments to suggest the steps that you need to implement to make it work.\n",
    "\n",
    "&#9989;&nbsp; **Work with your group to make this function functional!** \n",
    "\n",
    "To avoid needless scrolling **here are the rules of the model again**:\n",
    "\n",
    "> Each cell has a \"neighborhood\" that is composed of its four neighbors to the left, right, above, and below it.  (Note: not the diagonal elements!)  If a cell is along one of the edges of the array, only consider the neighbors that it has, and don't try to go out of the bounds of the array!\n",
    "\n",
    ">The model takes steps forward in time, where every cell is modified based on the previous step.  The model evolves as follows:\n",
    "\n",
    ">* If the cell was empty last turn, it stays empty this turn.\n",
    ">* If the cell is a tree and any of its neighbors were on fire last turn, it catches on fire.\n",
    ">* If the cell was on fire last turn, the fire has consumed all of the trees and it is now empty."
   ]
  },
  {
   "cell_type": "code",
   "execution_count": null,
   "metadata": {},
   "outputs": [],
   "source": [
    "def advance_board(game_board):\n",
    "    '''\n",
    "    Advances the game board using the given rules.\n",
    "    Input: the initial game board.\n",
    "    Output: the advanced game board\n",
    "    '''\n",
    "    \n",
    "    # create a new array that's just like the original one, but initially set to all zeros (i.e., totally empty)\n",
    "    new_board = np.zeros_like(game_board)\n",
    "    \n",
    "    #xrange = np.array([game_board.shape[0]])\n",
    "    #yrange = np.array([game_board.shape[1]])\n",
    "    \n",
    "    # loop over each cell in the board and decide what to do.\n",
    "    # You'll need two loops here, one nested inside the other.\n",
    "    for i in range(game_board.shape[0]):\n",
    "        for j in range(game_board.shape[1]):\n",
    "            \n",
    "    # Now that we're inside the loops we need to apply our rules\n",
    "    # if the cell was empty last turn, it's still empty.\n",
    "            if game_board[i,j] == 0:\n",
    "                return 0\n",
    "            \n",
    "            # if it was on fire last turn, it's now empty.\n",
    "            if game_board[i,j] == 2:\n",
    "                return 0\n",
    "                \n",
    "            # now, if there is a tree in the cell, we have to decide what to do\n",
    "                # initially make the cell a tree in the new board\n",
    "                # If one of the neighboring cells was on fire last turn, \n",
    "                # this cell is now on fire!\n",
    "            if game_board[i,j] == 1: # if tree\n",
    "                if i > 0 and game_board[i-1,j] == 2: # i > 0 makes sure it is within the left hand limit of the board, less the first space\n",
    "                    return 2                         # i-1 : space left of i,j\n",
    "                if i < game_board.shape[0]-1 and game_board[i+1,j] == 2: # i < xrange-1 makes sure w/in the right hand limit of the board\n",
    "                    return 2                         # i+1 : space right of i,j\n",
    "                if j > 0 and game_board[i,j-1] == 2: # j > 0 makes sure its w/in the lower limit of the board, less the bottom most space\n",
    "                    return 2                         # j-1 : space below of i,j\n",
    "                if j < game_board.shape[1]-1 and game_board[i,j+1] == 2: # j < yrange-1 makes sure its w/in the upper limit of the board\n",
    "                    return 2                         # j+1 : space above of i,j\n",
    "              \n",
    "    # return the new board\n",
    "    return new_board"
   ]
  },
  {
   "cell_type": "markdown",
   "metadata": {},
   "source": [
    "#### &#9989;&nbsp; As good coders, we always test our new functions! Test your function above and make sure it works! \n",
    "\n",
    "Run the code a few times to see whether fire advances according to the rules. You can start with any sort of initial board that you want, you can even just use the default board for the purpose of testing."
   ]
  },
  {
   "cell_type": "code",
   "execution_count": null,
   "metadata": {},
   "outputs": [],
   "source": [
    "# Initialize a new board here\n",
    "board = set_board()\n",
    "plt.figure(figsize = (10,10))\n",
    "plotgrid(board)"
   ]
  },
  {
   "cell_type": "code",
   "execution_count": null,
   "metadata": {},
   "outputs": [],
   "source": [
    "# Test your new advance_board function here. Make a plot to check it. \n",
    "# Run this cell several times to make sure the fire continues to advance.\n",
    "board = set_board()\n",
    "new_board = advance_board(board)\n",
    "new_board = advance_board(new_board)\n",
    "# Again, we set the figure size for you\n",
    "fig = plt.figure(figsize=(10,10))\n",
    "plotgrid(new_board)\n",
    "\n",
    "\n",
    "# I cant figure out this error????!!! (didn't try to ask group for help until it was too late (quiz started))"
   ]
  },
  {
   "cell_type": "markdown",
   "metadata": {},
   "source": [
    "## Analyzing the state of the board\n",
    "\n",
    "As we run our model, we want to know what fraction of the board is empty and what fraction is covered with trees. You need to add code to compute these values. A bit of skeleton code is provided for you to help guide your coding efforts."
   ]
  },
  {
   "cell_type": "code",
   "execution_count": null,
   "metadata": {},
   "outputs": [],
   "source": [
    "def calc_stats(game_board):\n",
    "    '''\n",
    "    Calculates the fraction of cells on the game board that are \n",
    "    a tree or are empty.\n",
    "    \n",
    "    Input: a game board\n",
    "    \n",
    "    Output: fraction that's empty, fraction that's covered in trees.\n",
    "    '''\n",
    "    \n",
    "    # use numpy to count up the fraction that are empty\n",
    "    frac_empty = game_board((game_board == 0)).sum() / game_board.size\n",
    "\n",
    "    # do the same for trees\n",
    "    frac_tree = game_board((game_board == 1)).sum() / game_board.size\n",
    "    \n",
    "    # return it!\n",
    "    return frac_empty, frac_tree\n",
    "\n"
   ]
  },
  {
   "cell_type": "markdown",
   "metadata": {},
   "source": [
    "### Putting it all together!\n",
    "\n",
    "The following code takes all of the above functions and puts them in order along with some animation code so that you can see your fire spread. If your functions above were written correctly, this could should *just work*. **Comment the code to indicate that you know what its doing!**"
   ]
  },
  {
   "cell_type": "code",
   "execution_count": null,
   "metadata": {},
   "outputs": [],
   "source": [
    "# define initial parameters\n",
    "f_trees_start=0.75\n",
    "board_size = 50\n",
    "\n",
    "# set figure size\n",
    "fig = plt.figure(figsize=(10,10))\n",
    "\n",
    "# initialize board\n",
    "game_board = set_board(board_size=board_size, f_trees_start=f_trees_start)\n",
    "\n",
    "# plot initial board values\n",
    "plotgrid(game_board)\n",
    "\n",
    "# set initial loop to true\n",
    "on_fire = True\n",
    "\n",
    "# loop through while initial loop is true\n",
    "while on_fire == True:\n",
    "\n",
    "    # advance the board\n",
    "    game_board = advance_board(game_board)\n",
    "    \n",
    "    # plot new board values\n",
    "    plotgrid(game_board)\n",
    "    time.sleep(0.01)  # \n",
    "    clear_output(wait=True)\n",
    "    display(fig)\n",
    "    fig.clear()\n",
    "\n",
    "    # calculate fractions of empty spaces, tree spaces\n",
    "    frac_empty, frac_trees = calc_stats(game_board)\n",
    "\n",
    "    # once only empty spaces and tree spaces remain on board, end initial loop\n",
    "    if frac_empty + frac_trees == 1.0:\n",
    "        on_fire = False\n",
    "\n",
    "# close current figure\n",
    "plt.close()               "
   ]
  },
  {
   "cell_type": "markdown",
   "metadata": {},
   "source": [
    "#### &#9989;&nbsp; Follow up task:\n",
    "Demonstrate that it works on a model board 50 cells on a side for a few values of $f_\\text{trees_start}$; say, 0.25, 0.5, 0.75, and 1.0.  "
   ]
  },
  {
   "cell_type": "markdown",
   "metadata": {},
   "source": [
    "####  &#9989;&nbsp; Question:\n",
    "Do you notice any differences in behavior as you change $f_\\text{trees_start}$? Put down your answer in the cell below."
   ]
  },
  {
   "cell_type": "markdown",
   "metadata": {},
   "source": [
    "<font size=\"+3\">&#9998;</font> When f_trees_start is larger, the amt of the board that burns also larger (same as simulation that was linked in the preclass)"
   ]
  },
  {
   "cell_type": "markdown",
   "metadata": {},
   "source": [
    "\n",
    "### Stage 3: Finding the tipping point \n",
    "\n",
    "In order to find the tipping point, i.e. the point at which the fire spreads much more substantially, we want to loop over many values of $f_\\text{trees_start}$ (say, values from 0.01 to 1.0, in steps of 0.01) and run the model many times.  If we keep track of the fraction of cells that are burned for each starting condition, we can show how $f_\\text{burned}$ and $f_\\text{trees_start}$ relate to each other. \n",
    "\n"
   ]
  },
  {
   "cell_type": "markdown",
   "metadata": {},
   "source": [
    "&#9989;&nbsp; **The code below is incomplete, fill the missing code to below to make a plot to observe where the tipping point occurs**"
   ]
  },
  {
   "cell_type": "code",
   "execution_count": null,
   "metadata": {},
   "outputs": [],
   "source": [
    "board_size = 50\n",
    "\n",
    "f_tree = []\n",
    "f_burned = []\n",
    "tree_f = np.arange(0.01, 1.01, 0.01)\n",
    "\n",
    "for tree_fraction in range(len(tree_f)):\n",
    "    \n",
    "    # Complete this line\n",
    "    game_board = set_board(board_size=board_size, f_trees_start=tree_fraction) # from part above\n",
    "\n",
    "    on_fire = True\n",
    "    while on_fire == True:\n",
    "        # Complete this line \n",
    "        game_board = advance_board(game_board) # again repeat from same processes above\n",
    "        \n",
    "        # Complete this line\n",
    "        frac_empty, frac_trees = calc_stats(game_board)\n",
    "        if frac_empty + frac_trees == 1.0:\n",
    "            # Complete this line\n",
    "            on_fire = False # end loop\n",
    "\n",
    "    f_tree.append(tree_fraction)\n",
    "    f_burned.append(frac_empty - (1.0-tree_fraction))\n",
    "    \n",
    "\n",
    "plt.plot(f_tree, f_burned)\n",
    "plt.xlabel(\"tree fraction\")\n",
    "plt.ylabel(\"burned fraction (normalized)\")\n"
   ]
  },
  {
   "cell_type": "markdown",
   "metadata": {},
   "source": [
    "#### &#9989;&nbsp; Follow up task:\n",
    "\n",
    "Describe the model's behavior.  Do you observe a \"tipping point\" in $f_\\text{burned}$? That is, is there an abrupt change in behavior in $f_\\text{burned}$ as you increase $f_\\text{trees_start}$?  Does it agree with what you saw when you were experimenting with the NetLogo model?"
   ]
  },
  {
   "cell_type": "markdown",
   "metadata": {},
   "source": [
    "<font size=\"+3\">&#9998;</font> *Put your answer here*"
   ]
  },
  {
   "cell_type": "markdown",
   "metadata": {},
   "source": [
    "---\n",
    "### Exploring new initial conditions\n",
    "\n",
    "So far, we have been setting up fire from the edge of the forest. If you set the fire in the middle row of the forest, does this change the where the tipping point occurs? (Copy and modify the code below and also put down your observations in a Markdown cell.)"
   ]
  },
  {
   "cell_type": "markdown",
   "metadata": {},
   "source": [
    "---\n",
    "### If time allows...\n",
    "\n",
    "Brainstorm with your group (and Google) what this agent-based models may be good for (other than forest fires). Write down your answer in a Markdown cell below. "
   ]
  },
  {
   "cell_type": "markdown",
   "metadata": {},
   "source": [
    "---\n"
   ]
  },
  {
   "cell_type": "markdown",
   "metadata": {},
   "source": [
    "## Congratulations, you're done!\n",
    "\n",
    "Submit this assignment by uploading your notebook and the pictures of your model planning session to the course Desire2Learn web page.  Go to the \"In-Class Assignments\" folder, find the appropriate submission link, and upload everything there. Make sure your name is on it!"
   ]
  },
  {
   "cell_type": "markdown",
   "metadata": {},
   "source": [
    "&#169; Copyright 2018,  Michigan State University Board of Trustees"
   ]
  }
 ],
 "metadata": {
  "anaconda-cloud": {},
  "kernelspec": {
   "display_name": "Python 3",
   "language": "python",
   "name": "python3"
  },
  "language_info": {
   "codemirror_mode": {
    "name": "ipython",
    "version": 3
   },
   "file_extension": ".py",
   "mimetype": "text/x-python",
   "name": "python",
   "nbconvert_exporter": "python",
   "pygments_lexer": "ipython3",
   "version": "3.8.5"
  }
 },
 "nbformat": 4,
 "nbformat_minor": 4
}
